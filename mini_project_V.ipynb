{
 "cells": [
  {
   "attachments": {},
   "cell_type": "markdown",
   "metadata": {},
   "source": [
    "## Identifying Duplicate Questions"
   ]
  },
  {
   "attachments": {},
   "cell_type": "markdown",
   "metadata": {},
   "source": [
    "Over 100 million people visit Quora every month, so it's no surprise that many people ask similar (or the same) questions. Various questions with the same intent can cause people to spend extra time searching for the best answer to their question, and results in members answering multiple versions of the same question. Quora uses random forest to identify duplicated questions to provide a better experience to active seekers and writers, and offer more value to both of these groups in the long term.\n",
    "Follow the steps outlined below to build the appropriate classifier model. \n",
    "\n",
    "\n",
    "Steps:\n",
    "- Download data\n",
    "- Exploration\n",
    "- Cleaning\n",
    "- Feature Engineering\n",
    "- Modeling\n",
    "\n",
    "By the end of this project you should have **a presentation that describes the model you built** and its **performance**. \n"
   ]
  },
  {
   "cell_type": "code",
   "execution_count": 1,
   "metadata": {},
   "outputs": [],
   "source": [
    "# Imports\n",
    "import pandas as pd\n",
    "import numpy as np\n",
    "import matplotlib.pyplot as plt\n",
    "from scipy.sparse import hstack\n",
    "import string\n",
    "\n",
    "from nltk.corpus import stopwords\n",
    "from nltk.stem import PorterStemmer\n",
    "\n",
    "from sklearn.model_selection import train_test_split, GridSearchCV\n",
    "from sklearn.feature_extraction.text import TfidfVectorizer\n",
    "from sklearn.linear_model import LogisticRegression\n",
    "from sklearn.metrics import accuracy_score, precision_score, recall_score, f1_score, confusion_matrix\n",
    "\n",
    "from imblearn.over_sampling import SMOTE\n",
    "import warnings\n",
    "warnings.filterwarnings('ignore')"
   ]
  },
  {
   "cell_type": "code",
   "execution_count": 2,
   "metadata": {},
   "outputs": [],
   "source": [
    "# Global pandas display options\n",
    "pd.set_option('display.max_colwidth', None)\n",
    "pd.set_option('display.float_format','{:.5f}'.format)"
   ]
  },
  {
   "cell_type": "code",
   "execution_count": 3,
   "metadata": {},
   "outputs": [],
   "source": [
    "# Read in training data\n",
    "df = pd.read_csv(\"./Data/train.csv\", index_col='id')"
   ]
  },
  {
   "cell_type": "code",
   "execution_count": 4,
   "metadata": {},
   "outputs": [
    {
     "data": {
      "text/html": [
       "<div>\n",
       "<style scoped>\n",
       "    .dataframe tbody tr th:only-of-type {\n",
       "        vertical-align: middle;\n",
       "    }\n",
       "\n",
       "    .dataframe tbody tr th {\n",
       "        vertical-align: top;\n",
       "    }\n",
       "\n",
       "    .dataframe thead th {\n",
       "        text-align: right;\n",
       "    }\n",
       "</style>\n",
       "<table border=\"1\" class=\"dataframe\">\n",
       "  <thead>\n",
       "    <tr style=\"text-align: right;\">\n",
       "      <th></th>\n",
       "      <th>qid1</th>\n",
       "      <th>qid2</th>\n",
       "      <th>question1</th>\n",
       "      <th>question2</th>\n",
       "      <th>is_duplicate</th>\n",
       "    </tr>\n",
       "  </thead>\n",
       "  <tbody>\n",
       "    <tr>\n",
       "      <th>0</th>\n",
       "      <td>1</td>\n",
       "      <td>2</td>\n",
       "      <td>What is the step by step guide to invest in share market in india?</td>\n",
       "      <td>What is the step by step guide to invest in share market?</td>\n",
       "      <td>0</td>\n",
       "    </tr>\n",
       "    <tr>\n",
       "      <th>1</th>\n",
       "      <td>3</td>\n",
       "      <td>4</td>\n",
       "      <td>What is the story of Kohinoor (Koh-i-Noor) Diamond?</td>\n",
       "      <td>What would happen if the Indian government stole the Kohinoor (Koh-i-Noor) diamond back?</td>\n",
       "      <td>0</td>\n",
       "    </tr>\n",
       "    <tr>\n",
       "      <th>2</th>\n",
       "      <td>5</td>\n",
       "      <td>6</td>\n",
       "      <td>How can I increase the speed of my internet connection while using a VPN?</td>\n",
       "      <td>How can Internet speed be increased by hacking through DNS?</td>\n",
       "      <td>0</td>\n",
       "    </tr>\n",
       "    <tr>\n",
       "      <th>3</th>\n",
       "      <td>7</td>\n",
       "      <td>8</td>\n",
       "      <td>Why am I mentally very lonely? How can I solve it?</td>\n",
       "      <td>Find the remainder when [math]23^{24}[/math] is divided by 24,23?</td>\n",
       "      <td>0</td>\n",
       "    </tr>\n",
       "    <tr>\n",
       "      <th>4</th>\n",
       "      <td>9</td>\n",
       "      <td>10</td>\n",
       "      <td>Which one dissolve in water quikly sugar, salt, methane and carbon di oxide?</td>\n",
       "      <td>Which fish would survive in salt water?</td>\n",
       "      <td>0</td>\n",
       "    </tr>\n",
       "  </tbody>\n",
       "</table>\n",
       "</div>"
      ],
      "text/plain": [
       "   qid1  qid2   \n",
       "0     1     2  \\\n",
       "1     3     4   \n",
       "2     5     6   \n",
       "3     7     8   \n",
       "4     9    10   \n",
       "\n",
       "                                                                      question1   \n",
       "0            What is the step by step guide to invest in share market in india?  \\\n",
       "1                           What is the story of Kohinoor (Koh-i-Noor) Diamond?   \n",
       "2     How can I increase the speed of my internet connection while using a VPN?   \n",
       "3                            Why am I mentally very lonely? How can I solve it?   \n",
       "4  Which one dissolve in water quikly sugar, salt, methane and carbon di oxide?   \n",
       "\n",
       "                                                                                  question2   \n",
       "0                                 What is the step by step guide to invest in share market?  \\\n",
       "1  What would happen if the Indian government stole the Kohinoor (Koh-i-Noor) diamond back?   \n",
       "2                               How can Internet speed be increased by hacking through DNS?   \n",
       "3                         Find the remainder when [math]23^{24}[/math] is divided by 24,23?   \n",
       "4                                                   Which fish would survive in salt water?   \n",
       "\n",
       "   is_duplicate  \n",
       "0             0  \n",
       "1             0  \n",
       "2             0  \n",
       "3             0  \n",
       "4             0  "
      ]
     },
     "execution_count": 4,
     "metadata": {},
     "output_type": "execute_result"
    }
   ],
   "source": [
    "df.index.name = None\n",
    "df.head()"
   ]
  },
  {
   "attachments": {},
   "cell_type": "markdown",
   "metadata": {},
   "source": [
    "#### Note\n",
    "There is no designated test.csv file. The train.csv file is the entire dataset. Part of the data in the train.csv file should be set aside to act as the final testing data."
   ]
  },
  {
   "cell_type": "code",
   "execution_count": 5,
   "metadata": {},
   "outputs": [
    {
     "data": {
      "text/html": [
       "<div>\n",
       "<style scoped>\n",
       "    .dataframe tbody tr th:only-of-type {\n",
       "        vertical-align: middle;\n",
       "    }\n",
       "\n",
       "    .dataframe tbody tr th {\n",
       "        vertical-align: top;\n",
       "    }\n",
       "\n",
       "    .dataframe thead th {\n",
       "        text-align: right;\n",
       "    }\n",
       "</style>\n",
       "<table border=\"1\" class=\"dataframe\">\n",
       "  <thead>\n",
       "    <tr style=\"text-align: right;\">\n",
       "      <th></th>\n",
       "      <th>qid1</th>\n",
       "      <th>qid2</th>\n",
       "      <th>question1</th>\n",
       "      <th>question2</th>\n",
       "      <th>is_duplicate</th>\n",
       "    </tr>\n",
       "  </thead>\n",
       "  <tbody>\n",
       "    <tr>\n",
       "      <th>78422</th>\n",
       "      <td>133729</td>\n",
       "      <td>120568</td>\n",
       "      <td>Why do I feel like everyone hates me?</td>\n",
       "      <td>What should I do if I feel like everyone hates me? Am I going into a depression? What can I do not to hate myself?</td>\n",
       "      <td>0</td>\n",
       "    </tr>\n",
       "    <tr>\n",
       "      <th>317343</th>\n",
       "      <td>442532</td>\n",
       "      <td>442533</td>\n",
       "      <td>Design a server architecture for serving Google maps images?</td>\n",
       "      <td>Why is Austria not part of Google Street View?</td>\n",
       "      <td>0</td>\n",
       "    </tr>\n",
       "    <tr>\n",
       "      <th>97207</th>\n",
       "      <td>68425</td>\n",
       "      <td>61435</td>\n",
       "      <td>What is the Sahara, and how do the average temperatures there compare to the ones in the Gibson Desert?</td>\n",
       "      <td>What is the Sahara, and how do the average temperatures there compare to the ones in the Taklamakan Desert?</td>\n",
       "      <td>1</td>\n",
       "    </tr>\n",
       "    <tr>\n",
       "      <th>69581</th>\n",
       "      <td>120053</td>\n",
       "      <td>120054</td>\n",
       "      <td>What are the main reason behind cancer diseases?</td>\n",
       "      <td>What was the main reason behind cancer disease?</td>\n",
       "      <td>1</td>\n",
       "    </tr>\n",
       "    <tr>\n",
       "      <th>282198</th>\n",
       "      <td>116675</td>\n",
       "      <td>117610</td>\n",
       "      <td>Are Apple watches worth it?</td>\n",
       "      <td>Is it worth getting the Apple Watch?</td>\n",
       "      <td>1</td>\n",
       "    </tr>\n",
       "  </tbody>\n",
       "</table>\n",
       "</div>"
      ],
      "text/plain": [
       "          qid1    qid2   \n",
       "78422   133729  120568  \\\n",
       "317343  442532  442533   \n",
       "97207    68425   61435   \n",
       "69581   120053  120054   \n",
       "282198  116675  117610   \n",
       "\n",
       "                                                                                                      question1   \n",
       "78422                                                                     Why do I feel like everyone hates me?  \\\n",
       "317343                                             Design a server architecture for serving Google maps images?   \n",
       "97207   What is the Sahara, and how do the average temperatures there compare to the ones in the Gibson Desert?   \n",
       "69581                                                          What are the main reason behind cancer diseases?   \n",
       "282198                                                                              Are Apple watches worth it?   \n",
       "\n",
       "                                                                                                                 question2   \n",
       "78422   What should I do if I feel like everyone hates me? Am I going into a depression? What can I do not to hate myself?  \\\n",
       "317343                                                                      Why is Austria not part of Google Street View?   \n",
       "97207          What is the Sahara, and how do the average temperatures there compare to the ones in the Taklamakan Desert?   \n",
       "69581                                                                      What was the main reason behind cancer disease?   \n",
       "282198                                                                                Is it worth getting the Apple Watch?   \n",
       "\n",
       "        is_duplicate  \n",
       "78422              0  \n",
       "317343             0  \n",
       "97207              1  \n",
       "69581              1  \n",
       "282198             1  "
      ]
     },
     "execution_count": 5,
     "metadata": {},
     "output_type": "execute_result"
    }
   ],
   "source": [
    "train_df, test_df = train_test_split(df, random_state = 420)\n",
    "train_df.head()"
   ]
  },
  {
   "attachments": {},
   "cell_type": "markdown",
   "metadata": {},
   "source": [
    "### Exploration"
   ]
  },
  {
   "cell_type": "code",
   "execution_count": 6,
   "metadata": {},
   "outputs": [
    {
     "data": {
      "text/plain": [
       "(303217, 5)"
      ]
     },
     "execution_count": 6,
     "metadata": {},
     "output_type": "execute_result"
    }
   ],
   "source": [
    "train_df.shape"
   ]
  },
  {
   "cell_type": "code",
   "execution_count": 7,
   "metadata": {},
   "outputs": [
    {
     "data": {
      "text/plain": [
       "qid1            0\n",
       "qid2            0\n",
       "question1       1\n",
       "question2       1\n",
       "is_duplicate    0\n",
       "dtype: int64"
      ]
     },
     "execution_count": 7,
     "metadata": {},
     "output_type": "execute_result"
    }
   ],
   "source": [
    "# Check nulls\n",
    "train_df.isnull().sum()"
   ]
  },
  {
   "cell_type": "code",
   "execution_count": 8,
   "metadata": {},
   "outputs": [
    {
     "name": "stdout",
     "output_type": "stream",
     "text": [
      "Unique questions in training set:  427102\n"
     ]
    }
   ],
   "source": [
    "# Number of unique questions\n",
    "q_unique = pd.Series(train_df['qid1'].to_list() + train_df['qid2'].to_list())\n",
    "print('Unique questions in training set: ', len(q_unique.unique()))"
   ]
  },
  {
   "cell_type": "code",
   "execution_count": 9,
   "metadata": {},
   "outputs": [
    {
     "data": {
      "image/png": "[encoded data removed]",
      "text/plain": [
       "<Figure size 640x480 with 1 Axes>"
      ]
     },
     "metadata": {},
     "output_type": "display_data"
    }
   ],
   "source": [
    "plt.figure()\n",
    "plt.hist(q_unique.value_counts().to_list(), bins=50)\n",
    "plt.title('Unique Question Presence in Training Set Distribution')\n",
    "plt.xlabel('Number of question appearances')\n",
    "plt.ylabel('Number of questions')\n",
    "plt.yscale('log', nonpositive='clip')\n",
    "plt.show()"
   ]
  },
  {
   "cell_type": "code",
   "execution_count": 10,
   "metadata": {},
   "outputs": [
    {
     "data": {
      "image/png": "[encoded data removed]",
      "text/plain": [
       "<Figure size 640x480 with 1 Axes>"
      ]
     },
     "metadata": {},
     "output_type": "display_data"
    }
   ],
   "source": [
    "# Check target distribution\n",
    "dup_count = train_df['is_duplicate'].astype('bool').value_counts()\n",
    "dup_count.plot.bar()\n",
    "plt.title('Duplicate Distribution in Training Set')\n",
    "plt.show()"
   ]
  },
  {
   "cell_type": "code",
   "execution_count": 11,
   "metadata": {},
   "outputs": [
    {
     "name": "stdout",
     "output_type": "stream",
     "text": [
      "Baseline accuracy of assuming no duplicates:  0.6304659699159348\n"
     ]
    }
   ],
   "source": [
    "print('Baseline accuracy of assuming no duplicates: ', dup_count[0] / dup_count.sum())"
   ]
  },
  {
   "attachments": {},
   "cell_type": "markdown",
   "metadata": {},
   "source": [
    "### Cleaning\n",
    "\n",
    "- Tokenization\n",
    "- Stopwords cleaning\n",
    "- Removing punctuation\n",
    "- Normalizing\n",
    "- Stemming"
   ]
  },
  {
   "cell_type": "code",
   "execution_count": 12,
   "metadata": {},
   "outputs": [],
   "source": [
    "# Fill null values with empty string\n",
    "train_df.fillna('', inplace=True)\n",
    "test_df.fillna('', inplace=True)"
   ]
  },
  {
   "cell_type": "code",
   "execution_count": 13,
   "metadata": {},
   "outputs": [],
   "source": [
    "# Preprocess a question string\n",
    "def preprocess_string(text: string):\n",
    "    # Punctuation\n",
    "    text = ''.join([char for char in text if char not in string.punctuation])\n",
    "    # Lowercase\n",
    "    text = text.lower()\n",
    "    # Tokenize\n",
    "    text = text.split()\n",
    "    # Stopwords\n",
    "    stop_words = stopwords.words('english')\n",
    "    text = [word for word in text if word not in stop_words]\n",
    "    # Stemming\n",
    "    ps = PorterStemmer()\n",
    "    text = [ps.stem(word) for word in text]\n",
    "    # Join\n",
    "    text = ' '.join(text)\n",
    "    \n",
    "    return text\n",
    "\n",
    "# Preprocess training set\n",
    "def preprocess_df(df: pd.DataFrame):\n",
    "    df['preprocessed_q1'] = df['question1'].apply(lambda x: preprocess_string(x))\n",
    "    df['preprocessed_q2'] = df['question2'].apply(lambda x: preprocess_string(x))\n",
    "    return df\n",
    "    "
   ]
  },
  {
   "cell_type": "code",
   "execution_count": 14,
   "metadata": {},
   "outputs": [],
   "source": [
    "train_df = preprocess_df(train_df)\n",
    "test_df = preprocess_df(test_df)"
   ]
  },
  {
   "cell_type": "code",
   "execution_count": 15,
   "metadata": {},
   "outputs": [
    {
     "data": {
      "text/html": [
       "<div>\n",
       "<style scoped>\n",
       "    .dataframe tbody tr th:only-of-type {\n",
       "        vertical-align: middle;\n",
       "    }\n",
       "\n",
       "    .dataframe tbody tr th {\n",
       "        vertical-align: top;\n",
       "    }\n",
       "\n",
       "    .dataframe thead th {\n",
       "        text-align: right;\n",
       "    }\n",
       "</style>\n",
       "<table border=\"1\" class=\"dataframe\">\n",
       "  <thead>\n",
       "    <tr style=\"text-align: right;\">\n",
       "      <th></th>\n",
       "      <th>qid1</th>\n",
       "      <th>qid2</th>\n",
       "      <th>question1</th>\n",
       "      <th>question2</th>\n",
       "      <th>is_duplicate</th>\n",
       "      <th>preprocessed_q1</th>\n",
       "      <th>preprocessed_q2</th>\n",
       "    </tr>\n",
       "  </thead>\n",
       "  <tbody>\n",
       "    <tr>\n",
       "      <th>78422</th>\n",
       "      <td>133729</td>\n",
       "      <td>120568</td>\n",
       "      <td>Why do I feel like everyone hates me?</td>\n",
       "      <td>What should I do if I feel like everyone hates me? Am I going into a depression? What can I do not to hate myself?</td>\n",
       "      <td>0</td>\n",
       "      <td>feel like everyon hate</td>\n",
       "      <td>feel like everyon hate go depress hate</td>\n",
       "    </tr>\n",
       "    <tr>\n",
       "      <th>317343</th>\n",
       "      <td>442532</td>\n",
       "      <td>442533</td>\n",
       "      <td>Design a server architecture for serving Google maps images?</td>\n",
       "      <td>Why is Austria not part of Google Street View?</td>\n",
       "      <td>0</td>\n",
       "      <td>design server architectur serv googl map imag</td>\n",
       "      <td>austria part googl street view</td>\n",
       "    </tr>\n",
       "    <tr>\n",
       "      <th>97207</th>\n",
       "      <td>68425</td>\n",
       "      <td>61435</td>\n",
       "      <td>What is the Sahara, and how do the average temperatures there compare to the ones in the Gibson Desert?</td>\n",
       "      <td>What is the Sahara, and how do the average temperatures there compare to the ones in the Taklamakan Desert?</td>\n",
       "      <td>1</td>\n",
       "      <td>sahara averag temperatur compar one gibson desert</td>\n",
       "      <td>sahara averag temperatur compar one taklamakan desert</td>\n",
       "    </tr>\n",
       "    <tr>\n",
       "      <th>69581</th>\n",
       "      <td>120053</td>\n",
       "      <td>120054</td>\n",
       "      <td>What are the main reason behind cancer diseases?</td>\n",
       "      <td>What was the main reason behind cancer disease?</td>\n",
       "      <td>1</td>\n",
       "      <td>main reason behind cancer diseas</td>\n",
       "      <td>main reason behind cancer diseas</td>\n",
       "    </tr>\n",
       "    <tr>\n",
       "      <th>282198</th>\n",
       "      <td>116675</td>\n",
       "      <td>117610</td>\n",
       "      <td>Are Apple watches worth it?</td>\n",
       "      <td>Is it worth getting the Apple Watch?</td>\n",
       "      <td>1</td>\n",
       "      <td>appl watch worth</td>\n",
       "      <td>worth get appl watch</td>\n",
       "    </tr>\n",
       "  </tbody>\n",
       "</table>\n",
       "</div>"
      ],
      "text/plain": [
       "          qid1    qid2   \n",
       "78422   133729  120568  \\\n",
       "317343  442532  442533   \n",
       "97207    68425   61435   \n",
       "69581   120053  120054   \n",
       "282198  116675  117610   \n",
       "\n",
       "                                                                                                      question1   \n",
       "78422                                                                     Why do I feel like everyone hates me?  \\\n",
       "317343                                             Design a server architecture for serving Google maps images?   \n",
       "97207   What is the Sahara, and how do the average temperatures there compare to the ones in the Gibson Desert?   \n",
       "69581                                                          What are the main reason behind cancer diseases?   \n",
       "282198                                                                              Are Apple watches worth it?   \n",
       "\n",
       "                                                                                                                 question2   \n",
       "78422   What should I do if I feel like everyone hates me? Am I going into a depression? What can I do not to hate myself?  \\\n",
       "317343                                                                      Why is Austria not part of Google Street View?   \n",
       "97207          What is the Sahara, and how do the average temperatures there compare to the ones in the Taklamakan Desert?   \n",
       "69581                                                                      What was the main reason behind cancer disease?   \n",
       "282198                                                                                Is it worth getting the Apple Watch?   \n",
       "\n",
       "        is_duplicate                                    preprocessed_q1   \n",
       "78422              0                             feel like everyon hate  \\\n",
       "317343             0      design server architectur serv googl map imag   \n",
       "97207              1  sahara averag temperatur compar one gibson desert   \n",
       "69581              1                   main reason behind cancer diseas   \n",
       "282198             1                                   appl watch worth   \n",
       "\n",
       "                                              preprocessed_q2  \n",
       "78422                  feel like everyon hate go depress hate  \n",
       "317343                         austria part googl street view  \n",
       "97207   sahara averag temperatur compar one taklamakan desert  \n",
       "69581                        main reason behind cancer diseas  \n",
       "282198                                   worth get appl watch  "
      ]
     },
     "execution_count": 15,
     "metadata": {},
     "output_type": "execute_result"
    }
   ],
   "source": [
    "train_df.head()"
   ]
  },
  {
   "attachments": {},
   "cell_type": "markdown",
   "metadata": {},
   "source": [
    "### Feature Engineering\n",
    "\n",
    "- tf-idf\n",
    "- word2vec\n",
    "- word count\n",
    "- number of the same words in both questions\n",
    "- ...."
   ]
  },
  {
   "cell_type": "code",
   "execution_count": 16,
   "metadata": {},
   "outputs": [],
   "source": [
    "#TF-IDF\n",
    "tfidf_vectorizer = TfidfVectorizer(min_df=0.01)\n",
    "\n",
    "# Combine questions in training set to train TFIDF\n",
    "tfidf_train_data = pd.concat([train_df['preprocessed_q1'], train_df['preprocessed_q2']])\n",
    "\n",
    "# Fit TFIDF on data\n",
    "tfidf_trained = tfidf_vectorizer.fit(tfidf_train_data)\n"
   ]
  },
  {
   "cell_type": "code",
   "execution_count": 17,
   "metadata": {},
   "outputs": [],
   "source": [
    "# Transform columns\n",
    "tfidf_q1 = tfidf_trained.transform(train_df['preprocessed_q1'])\n",
    "tfidf_q2 = tfidf_trained.transform(train_df['preprocessed_q2'])\n",
    "tfidf_q1_test = tfidf_trained.transform(test_df['preprocessed_q1'])\n",
    "tfidf_q2_test = tfidf_trained.transform(test_df['preprocessed_q2'])\n",
    "\n",
    "# Create final matrices for model usage\n",
    "X_train = hstack((tfidf_q1, tfidf_q2)).toarray()\n",
    "y_train = train_df['is_duplicate'].to_list()\n",
    "X_test = hstack((tfidf_q1_test, tfidf_q2_test)).toarray()\n",
    "y_test = test_df['is_duplicate'].to_list()"
   ]
  },
  {
   "attachments": {},
   "cell_type": "markdown",
   "metadata": {},
   "source": [
    "### Modeling\n",
    "\n",
    "Different modeling techniques can be used:\n",
    "\n",
    "- logistic regression\n",
    "- XGBoost\n",
    "- LSTMs\n",
    "- etc"
   ]
  },
  {
   "cell_type": "code",
   "execution_count": 18,
   "metadata": {},
   "outputs": [],
   "source": [
    "# Balance classes\n",
    "sm = SMOTE(random_state=420)\n",
    "X_res, y_res = sm.fit_resample(X_train, y_train)"
   ]
  },
  {
   "cell_type": "code",
   "execution_count": 20,
   "metadata": {},
   "outputs": [
    {
     "name": "stdout",
     "output_type": "stream",
     "text": [
      "{'C': 0.1, 'l1_ratio': 0.1, 'penalty': 'l2'}\n"
     ]
    }
   ],
   "source": [
    "# Grid search to tune hyperparameters\n",
    "grid = {\n",
    "    \"C\": [0.05, 0.1, 0.15, 0.2],\n",
    "    \"penalty\": [\"l1\", \"l2\", 'elasticnet'],\n",
    "    'l1_ratio': [0.1, 0.25]\n",
    "}\n",
    "logreg = LogisticRegression(n_jobs=-1)\n",
    "logreg_cv = GridSearchCV(logreg,grid,cv=3)\n",
    "logreg_cv.fit(X_res,y_res)\n",
    "print(logreg_cv.best_params_)"
   ]
  },
  {
   "cell_type": "code",
   "execution_count": 21,
   "metadata": {},
   "outputs": [
    {
     "name": "stdout",
     "output_type": "stream",
     "text": [
      "Accuracy:  0.6252807376846438\n",
      "Precision:  0.4908970539556438\n",
      "Recall:  0.4782071263502983\n",
      "F1:  0.48446900607083543\n",
      "Confusion Matrix:  [[45403 18456]\n",
      " [19418 17796]]\n"
     ]
    }
   ],
   "source": [
    "# Logistic Regression\n",
    "logreg = LogisticRegression(n_jobs=-1, C=0.1, penalty='l2')\n",
    "logreg.fit(X_res, y_res)\n",
    "y_pred = logreg.predict(X_test)\n",
    "acc = accuracy_score(y_test, y_pred)\n",
    "pre = precision_score(y_test, y_pred)\n",
    "rec = recall_score(y_test, y_pred)\n",
    "f1 = f1_score(y_test, y_pred)\n",
    "c_mtx = confusion_matrix(y_test, y_pred)\n",
    "print('Accuracy: ', acc)\n",
    "print('Precision: ', pre)\n",
    "print('Recall: ', rec)\n",
    "print('F1: ', f1)\n",
    "print('Confusion Matrix: ', c_mtx)"
   ]
  }
 ],
 "metadata": {
  "kernelspec": {
   "display_name": "Python 3 (ipykernel)",
   "language": "python",
   "name": "python3"
  },
  "language_info": {
   "codemirror_mode": {
    "name": "ipython",
    "version": 3
   },
   "file_extension": ".py",
   "mimetype": "text/x-python",
   "name": "python",
   "nbconvert_exporter": "python",
   "pygments_lexer": "ipython3",
   "version": "3.8.16"
  }
 },
 "nbformat": 4,
 "nbformat_minor": 4
}
